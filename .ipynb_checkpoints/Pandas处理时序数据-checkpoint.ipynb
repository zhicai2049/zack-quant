{
 "cells": [
  {
   "cell_type": "code",
   "execution_count": 1,
   "id": "7545cb07",
   "metadata": {},
   "outputs": [],
   "source": [
    "import pandas as pd\n",
    "import numpy as np"
   ]
  },
  {
   "cell_type": "code",
   "execution_count": 54,
   "id": "6578c1d4",
   "metadata": {},
   "outputs": [
    {
     "data": {
      "text/plain": [
       "DatetimeIndex(['2021-01-01 00:00:00', '2021-01-01 00:00:01',\n",
       "               '2021-01-01 00:00:02', '2021-01-01 00:00:03',\n",
       "               '2021-01-01 00:00:04', '2021-01-01 00:00:05',\n",
       "               '2021-01-01 00:00:06', '2021-01-01 00:00:07',\n",
       "               '2021-01-01 00:00:08', '2021-01-01 00:00:09',\n",
       "               ...\n",
       "               '2021-01-01 00:16:30', '2021-01-01 00:16:31',\n",
       "               '2021-01-01 00:16:32', '2021-01-01 00:16:33',\n",
       "               '2021-01-01 00:16:34', '2021-01-01 00:16:35',\n",
       "               '2021-01-01 00:16:36', '2021-01-01 00:16:37',\n",
       "               '2021-01-01 00:16:38', '2021-01-01 00:16:39'],\n",
       "              dtype='datetime64[ns]', length=1000, freq='S')"
      ]
     },
     "execution_count": 54,
     "metadata": {},
     "output_type": "execute_result"
    }
   ],
   "source": [
    "# 按秒生成1000个时间戳\n",
    "rng = pd.date_range(\"1/1/2021\", periods=1000, freq=\"S\")\n",
    "rng"
   ]
  },
  {
   "cell_type": "code",
   "execution_count": 64,
   "id": "8dba0611",
   "metadata": {},
   "outputs": [
    {
     "data": {
      "text/plain": [
       "2021-01-01 00:00:00   -121.689188\n",
       "2021-01-01 00:00:01    -37.609117\n",
       "2021-01-01 00:00:02     69.189619\n",
       "2021-01-01 00:00:03   -124.282179\n",
       "2021-01-01 00:00:04      0.090651\n",
       "                          ...    \n",
       "2021-01-01 00:16:35    116.490968\n",
       "2021-01-01 00:16:36    -92.761581\n",
       "2021-01-01 00:16:37     10.768552\n",
       "2021-01-01 00:16:38      5.786697\n",
       "2021-01-01 00:16:39     18.793465\n",
       "Freq: S, Length: 1000, dtype: float64"
      ]
     },
     "execution_count": 64,
     "metadata": {},
     "output_type": "execute_result"
    }
   ],
   "source": [
    "# 给每秒生成一个100之内的随机价格\n",
    "ts = pd.Series(data=100 *np.random.randn(len(rng)),index=rng)\n",
    "ts"
   ]
  },
  {
   "cell_type": "code",
   "execution_count": 65,
   "id": "3613ef9e",
   "metadata": {},
   "outputs": [
    {
     "data": {
      "text/plain": [
       "2021-01-01 00:00:00    1211.517277\n",
       "2021-01-01 00:05:00    1157.414597\n",
       "2021-01-01 00:10:00    1973.242550\n",
       "2021-01-01 00:15:00    -230.512587\n",
       "Freq: 5T, dtype: float64"
      ]
     },
     "execution_count": 65,
     "metadata": {},
     "output_type": "execute_result"
    }
   ],
   "source": [
    "# 按5分钟重采样计算\n",
    "ts.resample(\"5Min\").sum()"
   ]
  },
  {
   "cell_type": "code",
   "execution_count": 66,
   "id": "831beff7",
   "metadata": {},
   "outputs": [
    {
     "data": {
      "text/plain": [
       "PeriodIndex(['2012Q1', '2012Q2', '2012Q3', '2012Q4', '2013Q1', '2013Q2',\n",
       "             '2013Q3', '2013Q4', '2014Q1', '2014Q2', '2014Q3', '2014Q4',\n",
       "             '2015Q1', '2015Q2', '2015Q3', '2015Q4', '2016Q1', '2016Q2',\n",
       "             '2016Q3', '2016Q4', '2017Q1', '2017Q2', '2017Q3', '2017Q4',\n",
       "             '2018Q1', '2018Q2', '2018Q3', '2018Q4', '2019Q1', '2019Q2',\n",
       "             '2019Q3', '2019Q4', '2020Q1', '2020Q2', '2020Q3', '2020Q4',\n",
       "             '2021Q1', '2021Q2', '2021Q3', '2021Q4'],\n",
       "            dtype='period[Q-NOV]')"
      ]
     },
     "execution_count": 66,
     "metadata": {},
     "output_type": "execute_result"
    }
   ],
   "source": [
    "# 生成季度数据\n",
    "prng = pd.period_range('2012Q1','2021Q4', freq='Q-NOV')\n",
    "prng"
   ]
  },
  {
   "cell_type": "code",
   "execution_count": 67,
   "id": "e0cc414e",
   "metadata": {},
   "outputs": [
    {
     "data": {
      "text/plain": [
       "2012-03-01 10:00    0.159442\n",
       "2012-06-01 10:00   -0.726297\n",
       "2012-09-01 10:00   -1.054832\n",
       "2012-12-01 10:00   -0.268321\n",
       "2013-03-01 10:00   -0.935125\n",
       "Freq: H, dtype: float64"
      ]
     },
     "execution_count": 67,
     "metadata": {},
     "output_type": "execute_result"
    }
   ],
   "source": [
    "# 给季度数据加上小时时间\n",
    "ts = pd.Series(np.random.randn(len(prng)), prng)\n",
    "ts.index = (prng.asfreq(\"M\",\"e\") + 1).asfreq(\"H\",\"s\") + 10\n",
    "ts.head()"
   ]
  },
  {
   "cell_type": "code",
   "execution_count": 68,
   "id": "f2170455",
   "metadata": {},
   "outputs": [
    {
     "data": {
      "text/plain": [
       "2022-01-01 00:00:00      0\n",
       "2022-01-01 01:00:00      1\n",
       "2022-01-01 02:00:00      2\n",
       "2022-01-01 03:00:00      3\n",
       "2022-01-01 04:00:00      4\n",
       "                      ... \n",
       "2022-02-11 11:00:00    995\n",
       "2022-02-11 12:00:00    996\n",
       "2022-02-11 13:00:00    997\n",
       "2022-02-11 14:00:00    998\n",
       "2022-02-11 15:00:00    999\n",
       "Freq: H, Length: 1000, dtype: int64"
      ]
     },
     "execution_count": 68,
     "metadata": {},
     "output_type": "execute_result"
    }
   ],
   "source": [
    "# 生成小时数据\n",
    "idx = pd.date_range(\"2022-01-01\", periods=1000, freq=\"H\")\n",
    "ts = pd.Series(range(len(idx)), index=idx)\n",
    "ts\n"
   ]
  },
  {
   "cell_type": "code",
   "execution_count": 69,
   "id": "f459de7b",
   "metadata": {},
   "outputs": [
    {
     "data": {
      "text/plain": [
       "2022-01-01 00:00:00      1.5\n",
       "2022-01-01 04:00:00      5.5\n",
       "2022-01-01 08:00:00      9.5\n",
       "2022-01-01 12:00:00     13.5\n",
       "2022-01-01 16:00:00     17.5\n",
       "                       ...  \n",
       "2022-02-10 20:00:00    981.5\n",
       "2022-02-11 00:00:00    985.5\n",
       "2022-02-11 04:00:00    989.5\n",
       "2022-02-11 08:00:00    993.5\n",
       "2022-02-11 12:00:00    997.5\n",
       "Freq: 4H, Length: 250, dtype: float64"
      ]
     },
     "execution_count": 69,
     "metadata": {},
     "output_type": "execute_result"
    }
   ],
   "source": [
    "# 小时数据转化为4小时数据\n",
    "ts.resample(\"4H\").mean()"
   ]
  },
  {
   "cell_type": "code",
   "execution_count": 70,
   "id": "86bf2dcd",
   "metadata": {},
   "outputs": [
    {
     "data": {
      "text/plain": [
       "'Tuesday'"
      ]
     },
     "execution_count": 70,
     "metadata": {},
     "output_type": "execute_result"
    }
   ],
   "source": [
    "# 获得星期几\n",
    "day = pd.Timestamp(\"2022-03-01\")\n",
    "day.day_name()\n"
   ]
  },
  {
   "cell_type": "code",
   "execution_count": 78,
   "id": "d57dadf0",
   "metadata": {},
   "outputs": [
    {
     "data": {
      "text/plain": [
       "'Friday'"
      ]
     },
     "execution_count": 78,
     "metadata": {},
     "output_type": "execute_result"
    }
   ],
   "source": [
    "# 加三天，是星期五\n",
    "friday = day + pd.Timedelta(\"3 day\")\n",
    "friday.day_name()"
   ]
  },
  {
   "cell_type": "code",
   "execution_count": 79,
   "id": "34c250f5",
   "metadata": {},
   "outputs": [
    {
     "data": {
      "text/plain": [
       "'Monday'"
      ]
     },
     "execution_count": 79,
     "metadata": {},
     "output_type": "execute_result"
    }
   ],
   "source": [
    "# 加一个工作日\n",
    "monday = friday + pd.offsets.BDay()\n",
    "monday.day_name()\n"
   ]
  },
  {
   "cell_type": "code",
   "execution_count": null,
   "id": "01204865",
   "metadata": {},
   "outputs": [],
   "source": []
  }
 ],
 "metadata": {
  "kernelspec": {
   "display_name": "Python 3 (ipykernel)",
   "language": "python",
   "name": "python3"
  },
  "language_info": {
   "codemirror_mode": {
    "name": "ipython",
    "version": 3
   },
   "file_extension": ".py",
   "mimetype": "text/x-python",
   "name": "python",
   "nbconvert_exporter": "python",
   "pygments_lexer": "ipython3",
   "version": "3.7.11"
  }
 },
 "nbformat": 4,
 "nbformat_minor": 5
}
