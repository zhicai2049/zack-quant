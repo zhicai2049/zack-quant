{
 "cells": [
  {
   "cell_type": "code",
   "execution_count": 1,
   "id": "5a9b0b14",
   "metadata": {},
   "outputs": [],
   "source": [
    "import pandas as pd \n",
    "import numpy as np"
   ]
  },
  {
   "cell_type": "code",
   "execution_count": 7,
   "id": "8bbf3646",
   "metadata": {},
   "outputs": [
    {
     "data": {
      "text/html": [
       "<div>\n",
       "<style scoped>\n",
       "    .dataframe tbody tr th:only-of-type {\n",
       "        vertical-align: middle;\n",
       "    }\n",
       "\n",
       "    .dataframe tbody tr th {\n",
       "        vertical-align: top;\n",
       "    }\n",
       "\n",
       "    .dataframe thead th {\n",
       "        text-align: right;\n",
       "    }\n",
       "</style>\n",
       "<table border=\"1\" class=\"dataframe\">\n",
       "  <thead>\n",
       "    <tr style=\"text-align: right;\">\n",
       "      <th></th>\n",
       "      <th>open</th>\n",
       "      <th>low</th>\n",
       "      <th>high</th>\n",
       "      <th>close</th>\n",
       "    </tr>\n",
       "  </thead>\n",
       "  <tbody>\n",
       "    <tr>\n",
       "      <th>2022-03-01</th>\n",
       "      <td>31.811979</td>\n",
       "      <td>7.377107</td>\n",
       "      <td>-69.565457</td>\n",
       "      <td>-14.170258</td>\n",
       "    </tr>\n",
       "    <tr>\n",
       "      <th>2022-03-02</th>\n",
       "      <td>18.112216</td>\n",
       "      <td>-89.807770</td>\n",
       "      <td>75.537749</td>\n",
       "      <td>40.973986</td>\n",
       "    </tr>\n",
       "    <tr>\n",
       "      <th>2022-03-03</th>\n",
       "      <td>19.721180</td>\n",
       "      <td>19.468085</td>\n",
       "      <td>14.357835</td>\n",
       "      <td>2.911148</td>\n",
       "    </tr>\n",
       "    <tr>\n",
       "      <th>2022-03-04</th>\n",
       "      <td>8.957858</td>\n",
       "      <td>34.526111</td>\n",
       "      <td>-8.373342</td>\n",
       "      <td>1.331443</td>\n",
       "    </tr>\n",
       "    <tr>\n",
       "      <th>2022-03-05</th>\n",
       "      <td>-30.004508</td>\n",
       "      <td>-10.666025</td>\n",
       "      <td>-18.321218</td>\n",
       "      <td>48.449892</td>\n",
       "    </tr>\n",
       "    <tr>\n",
       "      <th>2022-03-06</th>\n",
       "      <td>4.958900</td>\n",
       "      <td>-51.840751</td>\n",
       "      <td>-19.060248</td>\n",
       "      <td>14.453452</td>\n",
       "    </tr>\n",
       "    <tr>\n",
       "      <th>2022-03-07</th>\n",
       "      <td>36.426164</td>\n",
       "      <td>53.005507</td>\n",
       "      <td>-10.406315</td>\n",
       "      <td>12.581437</td>\n",
       "    </tr>\n",
       "  </tbody>\n",
       "</table>\n",
       "</div>"
      ],
      "text/plain": [
       "                 open        low       high      close\n",
       "2022-03-01  31.811979   7.377107 -69.565457 -14.170258\n",
       "2022-03-02  18.112216 -89.807770  75.537749  40.973986\n",
       "2022-03-03  19.721180  19.468085  14.357835   2.911148\n",
       "2022-03-04   8.957858  34.526111  -8.373342   1.331443\n",
       "2022-03-05 -30.004508 -10.666025 -18.321218  48.449892\n",
       "2022-03-06   4.958900 -51.840751 -19.060248  14.453452\n",
       "2022-03-07  36.426164  53.005507 -10.406315  12.581437"
      ]
     },
     "execution_count": 7,
     "metadata": {},
     "output_type": "execute_result"
    }
   ],
   "source": [
    "# 数据准备\n",
    "dates = pd.date_range(\"20220301\",periods=7)\n",
    "df = pd.DataFrame(30 * np.random.randn(7,4), index=dates, columns=[\"open\",\"low\",\"high\",\"close\"])\n",
    "df"
   ]
  },
  {
   "cell_type": "code",
   "execution_count": 10,
   "id": "94e36202",
   "metadata": {},
   "outputs": [
    {
     "data": {
      "text/plain": [
       "open     12.854827\n",
       "low      -5.419677\n",
       "high     -5.118714\n",
       "close    15.218729\n",
       "dtype: float64"
      ]
     },
     "execution_count": 10,
     "metadata": {},
     "output_type": "execute_result"
    }
   ],
   "source": [
    "# 按行平均\n",
    "df.mean()"
   ]
  },
  {
   "cell_type": "code",
   "execution_count": 11,
   "id": "5f9c735a",
   "metadata": {},
   "outputs": [
    {
     "data": {
      "text/plain": [
       "2022-03-01   -11.136657\n",
       "2022-03-02    11.204045\n",
       "2022-03-03    14.114562\n",
       "2022-03-04     9.110517\n",
       "2022-03-05    -2.635465\n",
       "2022-03-06   -12.872162\n",
       "2022-03-07    22.901698\n",
       "Freq: D, dtype: float64"
      ]
     },
     "execution_count": 11,
     "metadata": {},
     "output_type": "execute_result"
    }
   ],
   "source": [
    "# 按列平均\n",
    "df.mean(1)"
   ]
  },
  {
   "cell_type": "code",
   "execution_count": 14,
   "id": "b37be051",
   "metadata": {},
   "outputs": [
    {
     "data": {
      "text/plain": [
       "2022-03-01     NaN\n",
       "2022-03-02     NaN\n",
       "2022-03-03    11.0\n",
       "2022-03-04    23.0\n",
       "2022-03-05    15.0\n",
       "2022-03-06     NaN\n",
       "2022-03-07    26.0\n",
       "Freq: D, dtype: float64"
      ]
     },
     "execution_count": 14,
     "metadata": {},
     "output_type": "execute_result"
    }
   ],
   "source": [
    "# 广播与对齐  shift(2) 表示下面数组往右移动两位，前面补Nan\n",
    "s = pd.Series([11,23,15,np.nan,26,18,17], index=dates).shift(2)\n",
    "s"
   ]
  },
  {
   "cell_type": "code",
   "execution_count": 16,
   "id": "f68fa953",
   "metadata": {},
   "outputs": [
    {
     "data": {
      "text/html": [
       "<div>\n",
       "<style scoped>\n",
       "    .dataframe tbody tr th:only-of-type {\n",
       "        vertical-align: middle;\n",
       "    }\n",
       "\n",
       "    .dataframe tbody tr th {\n",
       "        vertical-align: top;\n",
       "    }\n",
       "\n",
       "    .dataframe thead th {\n",
       "        text-align: right;\n",
       "    }\n",
       "</style>\n",
       "<table border=\"1\" class=\"dataframe\">\n",
       "  <thead>\n",
       "    <tr style=\"text-align: right;\">\n",
       "      <th></th>\n",
       "      <th>open</th>\n",
       "      <th>low</th>\n",
       "      <th>high</th>\n",
       "      <th>close</th>\n",
       "    </tr>\n",
       "  </thead>\n",
       "  <tbody>\n",
       "    <tr>\n",
       "      <th>2022-03-01</th>\n",
       "      <td>NaN</td>\n",
       "      <td>NaN</td>\n",
       "      <td>NaN</td>\n",
       "      <td>NaN</td>\n",
       "    </tr>\n",
       "    <tr>\n",
       "      <th>2022-03-02</th>\n",
       "      <td>NaN</td>\n",
       "      <td>NaN</td>\n",
       "      <td>NaN</td>\n",
       "      <td>NaN</td>\n",
       "    </tr>\n",
       "    <tr>\n",
       "      <th>2022-03-03</th>\n",
       "      <td>8.721180</td>\n",
       "      <td>8.468085</td>\n",
       "      <td>3.357835</td>\n",
       "      <td>-8.088852</td>\n",
       "    </tr>\n",
       "    <tr>\n",
       "      <th>2022-03-04</th>\n",
       "      <td>-14.042142</td>\n",
       "      <td>11.526111</td>\n",
       "      <td>-31.373342</td>\n",
       "      <td>-21.668557</td>\n",
       "    </tr>\n",
       "    <tr>\n",
       "      <th>2022-03-05</th>\n",
       "      <td>-45.004508</td>\n",
       "      <td>-25.666025</td>\n",
       "      <td>-33.321218</td>\n",
       "      <td>33.449892</td>\n",
       "    </tr>\n",
       "    <tr>\n",
       "      <th>2022-03-06</th>\n",
       "      <td>NaN</td>\n",
       "      <td>NaN</td>\n",
       "      <td>NaN</td>\n",
       "      <td>NaN</td>\n",
       "    </tr>\n",
       "    <tr>\n",
       "      <th>2022-03-07</th>\n",
       "      <td>10.426164</td>\n",
       "      <td>27.005507</td>\n",
       "      <td>-36.406315</td>\n",
       "      <td>-13.418563</td>\n",
       "    </tr>\n",
       "  </tbody>\n",
       "</table>\n",
       "</div>"
      ],
      "text/plain": [
       "                 open        low       high      close\n",
       "2022-03-01        NaN        NaN        NaN        NaN\n",
       "2022-03-02        NaN        NaN        NaN        NaN\n",
       "2022-03-03   8.721180   8.468085   3.357835  -8.088852\n",
       "2022-03-04 -14.042142  11.526111 -31.373342 -21.668557\n",
       "2022-03-05 -45.004508 -25.666025 -33.321218  33.449892\n",
       "2022-03-06        NaN        NaN        NaN        NaN\n",
       "2022-03-07  10.426164  27.005507 -36.406315 -13.418563"
      ]
     },
     "execution_count": 16,
     "metadata": {},
     "output_type": "execute_result"
    }
   ],
   "source": [
    "# 相减，s自动广播对齐，有Nan的都变为Nan\n",
    "df.sub(s, axis=\"index\")"
   ]
  },
  {
   "cell_type": "code",
   "execution_count": 35,
   "id": "89727d48",
   "metadata": {},
   "outputs": [
    {
     "data": {
      "text/html": [
       "<div>\n",
       "<style scoped>\n",
       "    .dataframe tbody tr th:only-of-type {\n",
       "        vertical-align: middle;\n",
       "    }\n",
       "\n",
       "    .dataframe tbody tr th {\n",
       "        vertical-align: top;\n",
       "    }\n",
       "\n",
       "    .dataframe thead th {\n",
       "        text-align: right;\n",
       "    }\n",
       "</style>\n",
       "<table border=\"1\" class=\"dataframe\">\n",
       "  <thead>\n",
       "    <tr style=\"text-align: right;\">\n",
       "      <th></th>\n",
       "      <th>open</th>\n",
       "      <th>low</th>\n",
       "      <th>high</th>\n",
       "      <th>close</th>\n",
       "    </tr>\n",
       "  </thead>\n",
       "  <tbody>\n",
       "    <tr>\n",
       "      <th>2022-03-01</th>\n",
       "      <td>31.811979</td>\n",
       "      <td>7.377107</td>\n",
       "      <td>-69.565457</td>\n",
       "      <td>-14.170258</td>\n",
       "    </tr>\n",
       "    <tr>\n",
       "      <th>2022-03-02</th>\n",
       "      <td>49.924195</td>\n",
       "      <td>-82.430663</td>\n",
       "      <td>5.972292</td>\n",
       "      <td>26.803728</td>\n",
       "    </tr>\n",
       "    <tr>\n",
       "      <th>2022-03-03</th>\n",
       "      <td>69.645375</td>\n",
       "      <td>-62.962578</td>\n",
       "      <td>20.330127</td>\n",
       "      <td>29.714876</td>\n",
       "    </tr>\n",
       "    <tr>\n",
       "      <th>2022-03-04</th>\n",
       "      <td>78.603233</td>\n",
       "      <td>-28.436468</td>\n",
       "      <td>11.956785</td>\n",
       "      <td>31.046319</td>\n",
       "    </tr>\n",
       "    <tr>\n",
       "      <th>2022-03-05</th>\n",
       "      <td>48.598725</td>\n",
       "      <td>-39.102492</td>\n",
       "      <td>-6.364433</td>\n",
       "      <td>79.496211</td>\n",
       "    </tr>\n",
       "    <tr>\n",
       "      <th>2022-03-06</th>\n",
       "      <td>53.557625</td>\n",
       "      <td>-90.943244</td>\n",
       "      <td>-25.424681</td>\n",
       "      <td>93.949663</td>\n",
       "    </tr>\n",
       "    <tr>\n",
       "      <th>2022-03-07</th>\n",
       "      <td>89.983789</td>\n",
       "      <td>-37.937737</td>\n",
       "      <td>-35.830996</td>\n",
       "      <td>106.531100</td>\n",
       "    </tr>\n",
       "  </tbody>\n",
       "</table>\n",
       "</div>"
      ],
      "text/plain": [
       "                 open        low       high       close\n",
       "2022-03-01  31.811979   7.377107 -69.565457  -14.170258\n",
       "2022-03-02  49.924195 -82.430663   5.972292   26.803728\n",
       "2022-03-03  69.645375 -62.962578  20.330127   29.714876\n",
       "2022-03-04  78.603233 -28.436468  11.956785   31.046319\n",
       "2022-03-05  48.598725 -39.102492  -6.364433   79.496211\n",
       "2022-03-06  53.557625 -90.943244 -25.424681   93.949663\n",
       "2022-03-07  89.983789 -37.937737 -35.830996  106.531100"
      ]
     },
     "execution_count": 35,
     "metadata": {},
     "output_type": "execute_result"
    }
   ],
   "source": [
    "# Apply函数\n",
    "\n",
    "# 按行累加\n",
    "df.apply(np.cumsum)"
   ]
  },
  {
   "cell_type": "code",
   "execution_count": 36,
   "id": "3d8a2ab3",
   "metadata": {},
   "outputs": [
    {
     "data": {
      "text/plain": [
       "open      66.430672\n",
       "low      142.813277\n",
       "high     145.103206\n",
       "close     62.620150\n",
       "dtype: float64"
      ]
     },
     "execution_count": 36,
     "metadata": {},
     "output_type": "execute_result"
    }
   ],
   "source": [
    "# 最大减最小\n",
    "df.apply(lambda x:x.max() - x.min())"
   ]
  },
  {
   "cell_type": "code",
   "execution_count": 37,
   "id": "de7a2f34",
   "metadata": {},
   "outputs": [
    {
     "data": {
      "text/plain": [
       "4    4\n",
       "5    3\n",
       "3    3\n",
       "dtype: int64"
      ]
     },
     "execution_count": 37,
     "metadata": {},
     "output_type": "execute_result"
    }
   ],
   "source": [
    "# 分组统计\n",
    "s = pd.Series(np.random.randint(2, 6, size=10))\n",
    "s\n"
   ]
  },
  {
   "cell_type": "code",
   "execution_count": 38,
   "id": "35b65e93",
   "metadata": {},
   "outputs": [
    {
     "data": {
      "text/plain": [
       "4    4\n",
       "5    3\n",
       "3    3\n",
       "dtype: int64"
      ]
     },
     "execution_count": 38,
     "metadata": {},
     "output_type": "execute_result"
    }
   ],
   "source": [
    "s.value_counts()"
   ]
  },
  {
   "cell_type": "code",
   "execution_count": 40,
   "id": "42f82b4e",
   "metadata": {},
   "outputs": [
    {
     "data": {
      "text/plain": [
       "0    abc\n",
       "1      d\n",
       "2      a\n",
       "3    NaN\n",
       "4    cat\n",
       "dtype: object"
      ]
     },
     "execution_count": 40,
     "metadata": {},
     "output_type": "execute_result"
    }
   ],
   "source": [
    "#字符串方法\n",
    "s = pd.Series([\"ABC\",\"D\",\"a\",np.nan,\"cAt\"])\n",
    "s.str.lower()"
   ]
  },
  {
   "cell_type": "code",
   "execution_count": 41,
   "id": "afef4a4f",
   "metadata": {},
   "outputs": [
    {
     "data": {
      "text/html": [
       "<div>\n",
       "<style scoped>\n",
       "    .dataframe tbody tr th:only-of-type {\n",
       "        vertical-align: middle;\n",
       "    }\n",
       "\n",
       "    .dataframe tbody tr th {\n",
       "        vertical-align: top;\n",
       "    }\n",
       "\n",
       "    .dataframe thead th {\n",
       "        text-align: right;\n",
       "    }\n",
       "</style>\n",
       "<table border=\"1\" class=\"dataframe\">\n",
       "  <thead>\n",
       "    <tr style=\"text-align: right;\">\n",
       "      <th></th>\n",
       "      <th>open</th>\n",
       "      <th>low</th>\n",
       "      <th>high</th>\n",
       "      <th>close</th>\n",
       "    </tr>\n",
       "  </thead>\n",
       "  <tbody>\n",
       "    <tr>\n",
       "      <th>2022-03-01</th>\n",
       "      <td>31.811979</td>\n",
       "      <td>7.377107</td>\n",
       "      <td>-69.565457</td>\n",
       "      <td>-14.170258</td>\n",
       "    </tr>\n",
       "    <tr>\n",
       "      <th>2022-03-02</th>\n",
       "      <td>18.112216</td>\n",
       "      <td>-89.807770</td>\n",
       "      <td>75.537749</td>\n",
       "      <td>40.973986</td>\n",
       "    </tr>\n",
       "    <tr>\n",
       "      <th>2022-03-03</th>\n",
       "      <td>19.721180</td>\n",
       "      <td>19.468085</td>\n",
       "      <td>14.357835</td>\n",
       "      <td>2.911148</td>\n",
       "    </tr>\n",
       "    <tr>\n",
       "      <th>2022-03-04</th>\n",
       "      <td>8.957858</td>\n",
       "      <td>34.526111</td>\n",
       "      <td>-8.373342</td>\n",
       "      <td>1.331443</td>\n",
       "    </tr>\n",
       "    <tr>\n",
       "      <th>2022-03-05</th>\n",
       "      <td>-30.004508</td>\n",
       "      <td>-10.666025</td>\n",
       "      <td>-18.321218</td>\n",
       "      <td>48.449892</td>\n",
       "    </tr>\n",
       "    <tr>\n",
       "      <th>2022-03-06</th>\n",
       "      <td>4.958900</td>\n",
       "      <td>-51.840751</td>\n",
       "      <td>-19.060248</td>\n",
       "      <td>14.453452</td>\n",
       "    </tr>\n",
       "    <tr>\n",
       "      <th>2022-03-07</th>\n",
       "      <td>36.426164</td>\n",
       "      <td>53.005507</td>\n",
       "      <td>-10.406315</td>\n",
       "      <td>12.581437</td>\n",
       "    </tr>\n",
       "  </tbody>\n",
       "</table>\n",
       "</div>"
      ],
      "text/plain": [
       "                 open        low       high      close\n",
       "2022-03-01  31.811979   7.377107 -69.565457 -14.170258\n",
       "2022-03-02  18.112216 -89.807770  75.537749  40.973986\n",
       "2022-03-03  19.721180  19.468085  14.357835   2.911148\n",
       "2022-03-04   8.957858  34.526111  -8.373342   1.331443\n",
       "2022-03-05 -30.004508 -10.666025 -18.321218  48.449892\n",
       "2022-03-06   4.958900 -51.840751 -19.060248  14.453452\n",
       "2022-03-07  36.426164  53.005507 -10.406315  12.581437"
      ]
     },
     "execution_count": 41,
     "metadata": {},
     "output_type": "execute_result"
    }
   ],
   "source": [
    "# 连接\n",
    "# concat\n",
    "df"
   ]
  },
  {
   "cell_type": "code",
   "execution_count": 42,
   "id": "14467433",
   "metadata": {},
   "outputs": [
    {
     "data": {
      "text/plain": [
       "[                 open        low       high      close\n",
       " 2022-03-01  31.811979   7.377107 -69.565457 -14.170258\n",
       " 2022-03-02  18.112216 -89.807770  75.537749  40.973986\n",
       " 2022-03-03  19.721180  19.468085  14.357835   2.911148,\n",
       "                  open        low       high      close\n",
       " 2022-03-05 -30.004508 -10.666025 -18.321218  48.449892\n",
       " 2022-03-06   4.958900 -51.840751 -19.060248  14.453452,\n",
       "                  open        low       high      close\n",
       " 2022-03-07  36.426164  53.005507 -10.406315  12.581437]"
      ]
     },
     "execution_count": 42,
     "metadata": {},
     "output_type": "execute_result"
    }
   ],
   "source": [
    "pieces = [df[:3],df[4:6],df[6:]]\n",
    "pieces"
   ]
  },
  {
   "cell_type": "code",
   "execution_count": 43,
   "id": "48dbfc6e",
   "metadata": {},
   "outputs": [
    {
     "data": {
      "text/html": [
       "<div>\n",
       "<style scoped>\n",
       "    .dataframe tbody tr th:only-of-type {\n",
       "        vertical-align: middle;\n",
       "    }\n",
       "\n",
       "    .dataframe tbody tr th {\n",
       "        vertical-align: top;\n",
       "    }\n",
       "\n",
       "    .dataframe thead th {\n",
       "        text-align: right;\n",
       "    }\n",
       "</style>\n",
       "<table border=\"1\" class=\"dataframe\">\n",
       "  <thead>\n",
       "    <tr style=\"text-align: right;\">\n",
       "      <th></th>\n",
       "      <th>open</th>\n",
       "      <th>low</th>\n",
       "      <th>high</th>\n",
       "      <th>close</th>\n",
       "    </tr>\n",
       "  </thead>\n",
       "  <tbody>\n",
       "    <tr>\n",
       "      <th>2022-03-01</th>\n",
       "      <td>31.811979</td>\n",
       "      <td>7.377107</td>\n",
       "      <td>-69.565457</td>\n",
       "      <td>-14.170258</td>\n",
       "    </tr>\n",
       "    <tr>\n",
       "      <th>2022-03-02</th>\n",
       "      <td>18.112216</td>\n",
       "      <td>-89.807770</td>\n",
       "      <td>75.537749</td>\n",
       "      <td>40.973986</td>\n",
       "    </tr>\n",
       "    <tr>\n",
       "      <th>2022-03-03</th>\n",
       "      <td>19.721180</td>\n",
       "      <td>19.468085</td>\n",
       "      <td>14.357835</td>\n",
       "      <td>2.911148</td>\n",
       "    </tr>\n",
       "    <tr>\n",
       "      <th>2022-03-05</th>\n",
       "      <td>-30.004508</td>\n",
       "      <td>-10.666025</td>\n",
       "      <td>-18.321218</td>\n",
       "      <td>48.449892</td>\n",
       "    </tr>\n",
       "    <tr>\n",
       "      <th>2022-03-06</th>\n",
       "      <td>4.958900</td>\n",
       "      <td>-51.840751</td>\n",
       "      <td>-19.060248</td>\n",
       "      <td>14.453452</td>\n",
       "    </tr>\n",
       "    <tr>\n",
       "      <th>2022-03-07</th>\n",
       "      <td>36.426164</td>\n",
       "      <td>53.005507</td>\n",
       "      <td>-10.406315</td>\n",
       "      <td>12.581437</td>\n",
       "    </tr>\n",
       "  </tbody>\n",
       "</table>\n",
       "</div>"
      ],
      "text/plain": [
       "                 open        low       high      close\n",
       "2022-03-01  31.811979   7.377107 -69.565457 -14.170258\n",
       "2022-03-02  18.112216 -89.807770  75.537749  40.973986\n",
       "2022-03-03  19.721180  19.468085  14.357835   2.911148\n",
       "2022-03-05 -30.004508 -10.666025 -18.321218  48.449892\n",
       "2022-03-06   4.958900 -51.840751 -19.060248  14.453452\n",
       "2022-03-07  36.426164  53.005507 -10.406315  12.581437"
      ]
     },
     "execution_count": 43,
     "metadata": {},
     "output_type": "execute_result"
    }
   ],
   "source": [
    "pd.concat(pieces)"
   ]
  },
  {
   "cell_type": "code",
   "execution_count": 51,
   "id": "a9399b28",
   "metadata": {},
   "outputs": [
    {
     "data": {
      "text/html": [
       "<div>\n",
       "<style scoped>\n",
       "    .dataframe tbody tr th:only-of-type {\n",
       "        vertical-align: middle;\n",
       "    }\n",
       "\n",
       "    .dataframe tbody tr th {\n",
       "        vertical-align: top;\n",
       "    }\n",
       "\n",
       "    .dataframe thead th {\n",
       "        text-align: right;\n",
       "    }\n",
       "</style>\n",
       "<table border=\"1\" class=\"dataframe\">\n",
       "  <thead>\n",
       "    <tr style=\"text-align: right;\">\n",
       "      <th></th>\n",
       "      <th>key</th>\n",
       "      <th>lval</th>\n",
       "    </tr>\n",
       "  </thead>\n",
       "  <tbody>\n",
       "    <tr>\n",
       "      <th>0</th>\n",
       "      <td>foo</td>\n",
       "      <td>1</td>\n",
       "    </tr>\n",
       "    <tr>\n",
       "      <th>1</th>\n",
       "      <td>foo</td>\n",
       "      <td>2</td>\n",
       "    </tr>\n",
       "  </tbody>\n",
       "</table>\n",
       "</div>"
      ],
      "text/plain": [
       "   key  lval\n",
       "0  foo     1\n",
       "1  foo     2"
      ]
     },
     "execution_count": 51,
     "metadata": {},
     "output_type": "execute_result"
    }
   ],
   "source": [
    "# join\n",
    "left = pd.DataFrame({\"key\":[\"foo\",\"foo\"], \"lval\":[1,2]})\n",
    "right = pd.DataFrame({\"key\":[\"foo1\",\"foo\"], \"rval\":[4,5]})\n",
    "left"
   ]
  },
  {
   "cell_type": "code",
   "execution_count": 52,
   "id": "8b1db780",
   "metadata": {},
   "outputs": [
    {
     "data": {
      "text/html": [
       "<div>\n",
       "<style scoped>\n",
       "    .dataframe tbody tr th:only-of-type {\n",
       "        vertical-align: middle;\n",
       "    }\n",
       "\n",
       "    .dataframe tbody tr th {\n",
       "        vertical-align: top;\n",
       "    }\n",
       "\n",
       "    .dataframe thead th {\n",
       "        text-align: right;\n",
       "    }\n",
       "</style>\n",
       "<table border=\"1\" class=\"dataframe\">\n",
       "  <thead>\n",
       "    <tr style=\"text-align: right;\">\n",
       "      <th></th>\n",
       "      <th>key</th>\n",
       "      <th>rval</th>\n",
       "    </tr>\n",
       "  </thead>\n",
       "  <tbody>\n",
       "    <tr>\n",
       "      <th>0</th>\n",
       "      <td>foo1</td>\n",
       "      <td>4</td>\n",
       "    </tr>\n",
       "    <tr>\n",
       "      <th>1</th>\n",
       "      <td>foo</td>\n",
       "      <td>5</td>\n",
       "    </tr>\n",
       "  </tbody>\n",
       "</table>\n",
       "</div>"
      ],
      "text/plain": [
       "    key  rval\n",
       "0  foo1     4\n",
       "1   foo     5"
      ]
     },
     "execution_count": 52,
     "metadata": {},
     "output_type": "execute_result"
    }
   ],
   "source": [
    "right"
   ]
  },
  {
   "cell_type": "code",
   "execution_count": 53,
   "id": "410632cc",
   "metadata": {},
   "outputs": [
    {
     "data": {
      "text/html": [
       "<div>\n",
       "<style scoped>\n",
       "    .dataframe tbody tr th:only-of-type {\n",
       "        vertical-align: middle;\n",
       "    }\n",
       "\n",
       "    .dataframe tbody tr th {\n",
       "        vertical-align: top;\n",
       "    }\n",
       "\n",
       "    .dataframe thead th {\n",
       "        text-align: right;\n",
       "    }\n",
       "</style>\n",
       "<table border=\"1\" class=\"dataframe\">\n",
       "  <thead>\n",
       "    <tr style=\"text-align: right;\">\n",
       "      <th></th>\n",
       "      <th>key</th>\n",
       "      <th>lval</th>\n",
       "      <th>rval</th>\n",
       "    </tr>\n",
       "  </thead>\n",
       "  <tbody>\n",
       "    <tr>\n",
       "      <th>0</th>\n",
       "      <td>foo</td>\n",
       "      <td>1</td>\n",
       "      <td>5</td>\n",
       "    </tr>\n",
       "    <tr>\n",
       "      <th>1</th>\n",
       "      <td>foo</td>\n",
       "      <td>2</td>\n",
       "      <td>5</td>\n",
       "    </tr>\n",
       "  </tbody>\n",
       "</table>\n",
       "</div>"
      ],
      "text/plain": [
       "   key  lval  rval\n",
       "0  foo     1     5\n",
       "1  foo     2     5"
      ]
     },
     "execution_count": 53,
     "metadata": {},
     "output_type": "execute_result"
    }
   ],
   "source": [
    "pd.merge(left, right, on='key')"
   ]
  },
  {
   "cell_type": "code",
   "execution_count": 54,
   "id": "3548d761",
   "metadata": {},
   "outputs": [
    {
     "data": {
      "text/html": [
       "<div>\n",
       "<style scoped>\n",
       "    .dataframe tbody tr th:only-of-type {\n",
       "        vertical-align: middle;\n",
       "    }\n",
       "\n",
       "    .dataframe tbody tr th {\n",
       "        vertical-align: top;\n",
       "    }\n",
       "\n",
       "    .dataframe thead th {\n",
       "        text-align: right;\n",
       "    }\n",
       "</style>\n",
       "<table border=\"1\" class=\"dataframe\">\n",
       "  <thead>\n",
       "    <tr style=\"text-align: right;\">\n",
       "      <th></th>\n",
       "      <th>A</th>\n",
       "      <th>B</th>\n",
       "      <th>C</th>\n",
       "      <th>D</th>\n",
       "    </tr>\n",
       "  </thead>\n",
       "  <tbody>\n",
       "    <tr>\n",
       "      <th>0</th>\n",
       "      <td>appl</td>\n",
       "      <td>open</td>\n",
       "      <td>86.560350</td>\n",
       "      <td>-93.302707</td>\n",
       "    </tr>\n",
       "    <tr>\n",
       "      <th>1</th>\n",
       "      <td>goog</td>\n",
       "      <td>close</td>\n",
       "      <td>-121.744652</td>\n",
       "      <td>25.346452</td>\n",
       "    </tr>\n",
       "    <tr>\n",
       "      <th>2</th>\n",
       "      <td>appl</td>\n",
       "      <td>high</td>\n",
       "      <td>-82.536901</td>\n",
       "      <td>-51.189180</td>\n",
       "    </tr>\n",
       "    <tr>\n",
       "      <th>3</th>\n",
       "      <td>goog</td>\n",
       "      <td>open</td>\n",
       "      <td>18.309978</td>\n",
       "      <td>-192.876883</td>\n",
       "    </tr>\n",
       "    <tr>\n",
       "      <th>4</th>\n",
       "      <td>appl</td>\n",
       "      <td>high</td>\n",
       "      <td>-0.658158</td>\n",
       "      <td>109.541893</td>\n",
       "    </tr>\n",
       "    <tr>\n",
       "      <th>5</th>\n",
       "      <td>appl</td>\n",
       "      <td>low</td>\n",
       "      <td>-1.868480</td>\n",
       "      <td>82.089713</td>\n",
       "    </tr>\n",
       "    <tr>\n",
       "      <th>6</th>\n",
       "      <td>goog</td>\n",
       "      <td>open</td>\n",
       "      <td>40.066798</td>\n",
       "      <td>3.860949</td>\n",
       "    </tr>\n",
       "  </tbody>\n",
       "</table>\n",
       "</div>"
      ],
      "text/plain": [
       "      A      B           C           D\n",
       "0  appl   open   86.560350  -93.302707\n",
       "1  goog  close -121.744652   25.346452\n",
       "2  appl   high  -82.536901  -51.189180\n",
       "3  goog   open   18.309978 -192.876883\n",
       "4  appl   high   -0.658158  109.541893\n",
       "5  appl    low   -1.868480   82.089713\n",
       "6  goog   open   40.066798    3.860949"
      ]
     },
     "execution_count": 54,
     "metadata": {},
     "output_type": "execute_result"
    }
   ],
   "source": [
    "# Grouping\n",
    "df = pd.DataFrame(\n",
    "    {\n",
    "        \"A\":[\"appl\",\"goog\",\"appl\",\"goog\",\"appl\",\"appl\",\"goog\"],\n",
    "        \"B\":[\"open\",\"close\",\"high\",\"open\",\"high\",\"low\",\"open\"],\n",
    "        \"C\": np.random.randn(7) * 100,\n",
    "        \"D\": np.random.randn(7) * 100,\n",
    "        \n",
    "    }\n",
    ")\n",
    "df"
   ]
  },
  {
   "cell_type": "code",
   "execution_count": 55,
   "id": "6782f101",
   "metadata": {},
   "outputs": [
    {
     "data": {
      "text/html": [
       "<div>\n",
       "<style scoped>\n",
       "    .dataframe tbody tr th:only-of-type {\n",
       "        vertical-align: middle;\n",
       "    }\n",
       "\n",
       "    .dataframe tbody tr th {\n",
       "        vertical-align: top;\n",
       "    }\n",
       "\n",
       "    .dataframe thead th {\n",
       "        text-align: right;\n",
       "    }\n",
       "</style>\n",
       "<table border=\"1\" class=\"dataframe\">\n",
       "  <thead>\n",
       "    <tr style=\"text-align: right;\">\n",
       "      <th></th>\n",
       "      <th>C</th>\n",
       "      <th>D</th>\n",
       "    </tr>\n",
       "    <tr>\n",
       "      <th>A</th>\n",
       "      <th></th>\n",
       "      <th></th>\n",
       "    </tr>\n",
       "  </thead>\n",
       "  <tbody>\n",
       "    <tr>\n",
       "      <th>appl</th>\n",
       "      <td>1.496811</td>\n",
       "      <td>47.139718</td>\n",
       "    </tr>\n",
       "    <tr>\n",
       "      <th>goog</th>\n",
       "      <td>-63.367876</td>\n",
       "      <td>-163.669481</td>\n",
       "    </tr>\n",
       "  </tbody>\n",
       "</table>\n",
       "</div>"
      ],
      "text/plain": [
       "              C           D\n",
       "A                          \n",
       "appl   1.496811   47.139718\n",
       "goog -63.367876 -163.669481"
      ]
     },
     "execution_count": 55,
     "metadata": {},
     "output_type": "execute_result"
    }
   ],
   "source": [
    "df.groupby(\"A\").sum()"
   ]
  },
  {
   "cell_type": "code",
   "execution_count": 56,
   "id": "af2afb8a",
   "metadata": {},
   "outputs": [
    {
     "data": {
      "text/html": [
       "<div>\n",
       "<style scoped>\n",
       "    .dataframe tbody tr th:only-of-type {\n",
       "        vertical-align: middle;\n",
       "    }\n",
       "\n",
       "    .dataframe tbody tr th {\n",
       "        vertical-align: top;\n",
       "    }\n",
       "\n",
       "    .dataframe thead th {\n",
       "        text-align: right;\n",
       "    }\n",
       "</style>\n",
       "<table border=\"1\" class=\"dataframe\">\n",
       "  <thead>\n",
       "    <tr style=\"text-align: right;\">\n",
       "      <th></th>\n",
       "      <th></th>\n",
       "      <th>C</th>\n",
       "      <th>D</th>\n",
       "    </tr>\n",
       "    <tr>\n",
       "      <th>A</th>\n",
       "      <th>B</th>\n",
       "      <th></th>\n",
       "      <th></th>\n",
       "    </tr>\n",
       "  </thead>\n",
       "  <tbody>\n",
       "    <tr>\n",
       "      <th rowspan=\"3\" valign=\"top\">appl</th>\n",
       "      <th>high</th>\n",
       "      <td>-83.195059</td>\n",
       "      <td>58.352713</td>\n",
       "    </tr>\n",
       "    <tr>\n",
       "      <th>low</th>\n",
       "      <td>-1.868480</td>\n",
       "      <td>82.089713</td>\n",
       "    </tr>\n",
       "    <tr>\n",
       "      <th>open</th>\n",
       "      <td>86.560350</td>\n",
       "      <td>-93.302707</td>\n",
       "    </tr>\n",
       "    <tr>\n",
       "      <th rowspan=\"2\" valign=\"top\">goog</th>\n",
       "      <th>close</th>\n",
       "      <td>-121.744652</td>\n",
       "      <td>25.346452</td>\n",
       "    </tr>\n",
       "    <tr>\n",
       "      <th>open</th>\n",
       "      <td>58.376776</td>\n",
       "      <td>-189.015933</td>\n",
       "    </tr>\n",
       "  </tbody>\n",
       "</table>\n",
       "</div>"
      ],
      "text/plain": [
       "                     C           D\n",
       "A    B                            \n",
       "appl high   -83.195059   58.352713\n",
       "     low     -1.868480   82.089713\n",
       "     open    86.560350  -93.302707\n",
       "goog close -121.744652   25.346452\n",
       "     open    58.376776 -189.015933"
      ]
     },
     "execution_count": 56,
     "metadata": {},
     "output_type": "execute_result"
    }
   ],
   "source": [
    "df.groupby([\"A\", \"B\"]).sum()"
   ]
  },
  {
   "cell_type": "code",
   "execution_count": 65,
   "id": "0190cbc2",
   "metadata": {},
   "outputs": [
    {
     "data": {
      "text/plain": [
       "[('appl', 'open'),\n",
       " ('appl', 'close'),\n",
       " ('goog', 'open'),\n",
       " ('goog', 'close'),\n",
       " ('bili', 'open'),\n",
       " ('bili', 'close')]"
      ]
     },
     "execution_count": 65,
     "metadata": {},
     "output_type": "execute_result"
    }
   ],
   "source": [
    "# Stack\n",
    "\n",
    "tuples = list(\n",
    "    zip(\n",
    "        *[\n",
    "            [\"appl\",\"appl\",\"goog\",\"goog\",\"bili\",\"bili\"],\n",
    "            [\"open\",\"close\",\"open\",\"close\",\"open\",\"close\"],\n",
    "            \n",
    "        ]\n",
    "    )\n",
    ")\n",
    "tuples"
   ]
  },
  {
   "cell_type": "code",
   "execution_count": 66,
   "id": "bf5ab1c3",
   "metadata": {},
   "outputs": [
    {
     "data": {
      "text/plain": [
       "MultiIndex([('appl',  'open'),\n",
       "            ('appl', 'close'),\n",
       "            ('goog',  'open'),\n",
       "            ('goog', 'close'),\n",
       "            ('bili',  'open'),\n",
       "            ('bili', 'close')],\n",
       "           names=['stock', 'price'])"
      ]
     },
     "execution_count": 66,
     "metadata": {},
     "output_type": "execute_result"
    }
   ],
   "source": [
    "index = pd.MultiIndex.from_tuples(tuples, names=[\"stock\", \"price\"])\n",
    "index"
   ]
  },
  {
   "cell_type": "code",
   "execution_count": 67,
   "id": "d4ef66b3",
   "metadata": {},
   "outputs": [],
   "source": [
    "df = pd.DataFrame(np.random.randn(6,2)*100, index=index, columns=[\"price1\",\"price2\"])"
   ]
  },
  {
   "cell_type": "code",
   "execution_count": 68,
   "id": "c0890597",
   "metadata": {},
   "outputs": [
    {
     "data": {
      "text/html": [
       "<div>\n",
       "<style scoped>\n",
       "    .dataframe tbody tr th:only-of-type {\n",
       "        vertical-align: middle;\n",
       "    }\n",
       "\n",
       "    .dataframe tbody tr th {\n",
       "        vertical-align: top;\n",
       "    }\n",
       "\n",
       "    .dataframe thead th {\n",
       "        text-align: right;\n",
       "    }\n",
       "</style>\n",
       "<table border=\"1\" class=\"dataframe\">\n",
       "  <thead>\n",
       "    <tr style=\"text-align: right;\">\n",
       "      <th></th>\n",
       "      <th></th>\n",
       "      <th>price1</th>\n",
       "      <th>price2</th>\n",
       "    </tr>\n",
       "    <tr>\n",
       "      <th>stock</th>\n",
       "      <th>price</th>\n",
       "      <th></th>\n",
       "      <th></th>\n",
       "    </tr>\n",
       "  </thead>\n",
       "  <tbody>\n",
       "    <tr>\n",
       "      <th rowspan=\"2\" valign=\"top\">appl</th>\n",
       "      <th>open</th>\n",
       "      <td>97.332941</td>\n",
       "      <td>-83.064304</td>\n",
       "    </tr>\n",
       "    <tr>\n",
       "      <th>close</th>\n",
       "      <td>99.859753</td>\n",
       "      <td>67.755965</td>\n",
       "    </tr>\n",
       "    <tr>\n",
       "      <th rowspan=\"2\" valign=\"top\">goog</th>\n",
       "      <th>open</th>\n",
       "      <td>251.001866</td>\n",
       "      <td>-158.362320</td>\n",
       "    </tr>\n",
       "    <tr>\n",
       "      <th>close</th>\n",
       "      <td>-82.126600</td>\n",
       "      <td>99.277345</td>\n",
       "    </tr>\n",
       "  </tbody>\n",
       "</table>\n",
       "</div>"
      ],
      "text/plain": [
       "                 price1      price2\n",
       "stock price                        \n",
       "appl  open    97.332941  -83.064304\n",
       "      close   99.859753   67.755965\n",
       "goog  open   251.001866 -158.362320\n",
       "      close  -82.126600   99.277345"
      ]
     },
     "execution_count": 68,
     "metadata": {},
     "output_type": "execute_result"
    }
   ],
   "source": [
    "df2 = df[:4]\n",
    "df2"
   ]
  },
  {
   "cell_type": "code",
   "execution_count": 69,
   "id": "ca273552",
   "metadata": {},
   "outputs": [
    {
     "data": {
      "text/plain": [
       "stock  price        \n",
       "appl   open   price1     97.332941\n",
       "              price2    -83.064304\n",
       "       close  price1     99.859753\n",
       "              price2     67.755965\n",
       "goog   open   price1    251.001866\n",
       "              price2   -158.362320\n",
       "       close  price1    -82.126600\n",
       "              price2     99.277345\n",
       "dtype: float64"
      ]
     },
     "execution_count": 69,
     "metadata": {},
     "output_type": "execute_result"
    }
   ],
   "source": [
    "stacked = df2.stack()\n",
    "stacked"
   ]
  },
  {
   "cell_type": "code",
   "execution_count": 70,
   "id": "cb884f2f",
   "metadata": {},
   "outputs": [
    {
     "data": {
      "text/html": [
       "<div>\n",
       "<style scoped>\n",
       "    .dataframe tbody tr th:only-of-type {\n",
       "        vertical-align: middle;\n",
       "    }\n",
       "\n",
       "    .dataframe tbody tr th {\n",
       "        vertical-align: top;\n",
       "    }\n",
       "\n",
       "    .dataframe thead th {\n",
       "        text-align: right;\n",
       "    }\n",
       "</style>\n",
       "<table border=\"1\" class=\"dataframe\">\n",
       "  <thead>\n",
       "    <tr style=\"text-align: right;\">\n",
       "      <th></th>\n",
       "      <th></th>\n",
       "      <th>price1</th>\n",
       "      <th>price2</th>\n",
       "    </tr>\n",
       "    <tr>\n",
       "      <th>stock</th>\n",
       "      <th>price</th>\n",
       "      <th></th>\n",
       "      <th></th>\n",
       "    </tr>\n",
       "  </thead>\n",
       "  <tbody>\n",
       "    <tr>\n",
       "      <th rowspan=\"2\" valign=\"top\">appl</th>\n",
       "      <th>close</th>\n",
       "      <td>99.859753</td>\n",
       "      <td>67.755965</td>\n",
       "    </tr>\n",
       "    <tr>\n",
       "      <th>open</th>\n",
       "      <td>97.332941</td>\n",
       "      <td>-83.064304</td>\n",
       "    </tr>\n",
       "    <tr>\n",
       "      <th rowspan=\"2\" valign=\"top\">goog</th>\n",
       "      <th>close</th>\n",
       "      <td>-82.126600</td>\n",
       "      <td>99.277345</td>\n",
       "    </tr>\n",
       "    <tr>\n",
       "      <th>open</th>\n",
       "      <td>251.001866</td>\n",
       "      <td>-158.362320</td>\n",
       "    </tr>\n",
       "  </tbody>\n",
       "</table>\n",
       "</div>"
      ],
      "text/plain": [
       "                 price1      price2\n",
       "stock price                        \n",
       "appl  close   99.859753   67.755965\n",
       "      open    97.332941  -83.064304\n",
       "goog  close  -82.126600   99.277345\n",
       "      open   251.001866 -158.362320"
      ]
     },
     "execution_count": 70,
     "metadata": {},
     "output_type": "execute_result"
    }
   ],
   "source": [
    "stacked.unstack()"
   ]
  },
  {
   "cell_type": "code",
   "execution_count": 73,
   "id": "726abb81",
   "metadata": {},
   "outputs": [
    {
     "data": {
      "text/html": [
       "<div>\n",
       "<style scoped>\n",
       "    .dataframe tbody tr th:only-of-type {\n",
       "        vertical-align: middle;\n",
       "    }\n",
       "\n",
       "    .dataframe tbody tr th {\n",
       "        vertical-align: top;\n",
       "    }\n",
       "\n",
       "    .dataframe thead th {\n",
       "        text-align: right;\n",
       "    }\n",
       "</style>\n",
       "<table border=\"1\" class=\"dataframe\">\n",
       "  <thead>\n",
       "    <tr style=\"text-align: right;\">\n",
       "      <th></th>\n",
       "      <th>stock</th>\n",
       "      <th>appl</th>\n",
       "      <th>goog</th>\n",
       "    </tr>\n",
       "    <tr>\n",
       "      <th>price</th>\n",
       "      <th></th>\n",
       "      <th></th>\n",
       "      <th></th>\n",
       "    </tr>\n",
       "  </thead>\n",
       "  <tbody>\n",
       "    <tr>\n",
       "      <th rowspan=\"2\" valign=\"top\">close</th>\n",
       "      <th>price1</th>\n",
       "      <td>99.859753</td>\n",
       "      <td>-82.126600</td>\n",
       "    </tr>\n",
       "    <tr>\n",
       "      <th>price2</th>\n",
       "      <td>67.755965</td>\n",
       "      <td>99.277345</td>\n",
       "    </tr>\n",
       "    <tr>\n",
       "      <th rowspan=\"2\" valign=\"top\">open</th>\n",
       "      <th>price1</th>\n",
       "      <td>97.332941</td>\n",
       "      <td>251.001866</td>\n",
       "    </tr>\n",
       "    <tr>\n",
       "      <th>price2</th>\n",
       "      <td>-83.064304</td>\n",
       "      <td>-158.362320</td>\n",
       "    </tr>\n",
       "  </tbody>\n",
       "</table>\n",
       "</div>"
      ],
      "text/plain": [
       "stock              appl        goog\n",
       "price                              \n",
       "close price1  99.859753  -82.126600\n",
       "      price2  67.755965   99.277345\n",
       "open  price1  97.332941  251.001866\n",
       "      price2 -83.064304 -158.362320"
      ]
     },
     "execution_count": 73,
     "metadata": {},
     "output_type": "execute_result"
    }
   ],
   "source": [
    "stacked.unstack(0)"
   ]
  },
  {
   "cell_type": "code",
   "execution_count": null,
   "id": "f077fc41",
   "metadata": {},
   "outputs": [],
   "source": []
  }
 ],
 "metadata": {
  "kernelspec": {
   "display_name": "Python 3 (ipykernel)",
   "language": "python",
   "name": "python3"
  },
  "language_info": {
   "codemirror_mode": {
    "name": "ipython",
    "version": 3
   },
   "file_extension": ".py",
   "mimetype": "text/x-python",
   "name": "python",
   "nbconvert_exporter": "python",
   "pygments_lexer": "ipython3",
   "version": "3.7.11"
  }
 },
 "nbformat": 4,
 "nbformat_minor": 5
}
