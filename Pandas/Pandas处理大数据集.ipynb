{
 "cells": [
  {
   "cell_type": "code",
   "execution_count": 16,
   "id": "ec7cea6e",
   "metadata": {},
   "outputs": [],
   "source": [
    "import pandas as pd\n",
    "import numpy as np\n",
    "import time"
   ]
  },
  {
   "cell_type": "code",
   "execution_count": 50,
   "id": "b6b6bb9f",
   "metadata": {},
   "outputs": [],
   "source": [
    "# 随机生成1000万条股票数据\n",
    "rng = pd.date_range(\"1/1/2022\", periods=10000000, freq=\"S\")\n",
    "df = pd.DataFrame({\n",
    "    \"open\": pd.Series(data=100 *np.random.rand(len(rng)),index=rng), \n",
    "    \"low\": pd.Series(data=100 *np.random.rand(len(rng)),index=rng),\n",
    "    \"high\": pd.Series(data=100 *np.random.rand(len(rng)),index=rng),\n",
    "    \"close\": pd.Series(data=100 *np.random.rand(len(rng)),index=rng),\n",
    "    \"open1\": pd.Series(data=100 *np.random.rand(len(rng)),index=rng), \n",
    "    \"low1\": pd.Series(data=100 *np.random.rand(len(rng)),index=rng),\n",
    "    \"high1\": pd.Series(data=100 *np.random.rand(len(rng)),index=rng),\n",
    "    \"close1\": pd.Series(data=100 *np.random.rand(len(rng)),index=rng),\n",
    "    \"open2\": pd.Series(data=100 *np.random.rand(len(rng)),index=rng), \n",
    "    \"low2\": pd.Series(data=100 *np.random.rand(len(rng)),index=rng),\n",
    "    \"high2\": pd.Series(data=100 *np.random.rand(len(rng)),index=rng),\n",
    "    \"close2\": pd.Series(data=100 *np.random.rand(len(rng)),index=rng),\n",
    "})"
   ]
  },
  {
   "cell_type": "code",
   "execution_count": 51,
   "id": "f79c50d0",
   "metadata": {},
   "outputs": [
    {
     "name": "stdout",
     "output_type": "stream",
     "text": [
      "写入全部数据 === 花费时间:3.429s\n"
     ]
    }
   ],
   "source": [
    "# 以parquet格式写入本地磁盘\n",
    "t = time.perf_counter()\n",
    "df.to_parquet(\"stock_bigdata.parquet\", engine=\"pyarrow\")\n",
    "print(f'写入全部数据 === 花费时间:{time.perf_counter() - t:.3f}s')"
   ]
  },
  {
   "cell_type": "code",
   "execution_count": 52,
   "id": "93ae6a1d",
   "metadata": {},
   "outputs": [
    {
     "name": "stdout",
     "output_type": "stream",
     "text": [
      "读取全部数据 === 花费时间:1.973s\n"
     ]
    }
   ],
   "source": [
    "# 读取全部数据\n",
    "t = time.perf_counter()\n",
    "pd.read_parquet(\"stock_bigdata.parquet\")\n",
    "print(f'读取全部数据 === 花费时间:{time.perf_counter() - t:.3f}s')"
   ]
  },
  {
   "cell_type": "code",
   "execution_count": 53,
   "id": "2f794db7",
   "metadata": {},
   "outputs": [
    {
     "name": "stdout",
     "output_type": "stream",
     "text": [
      "读取部分数据 === 花费时间:1.684s\n"
     ]
    }
   ],
   "source": [
    "# 如果数据过大，可以只读取需要的列\n",
    "# 读取部分数据\n",
    "t = time.perf_counter()\n",
    "columns = [\"close\"]\n",
    "pd.read_parquet(\"stock_bigdata.parquet\")[columns]\n",
    "print(f'读取部分数据 === 花费时间:{time.perf_counter() - t:.3f}s')"
   ]
  },
  {
   "cell_type": "code",
   "execution_count": 54,
   "id": "26c5c5e4",
   "metadata": {},
   "outputs": [
    {
     "data": {
      "text/html": [
       "<div>\n",
       "<style scoped>\n",
       "    .dataframe tbody tr th:only-of-type {\n",
       "        vertical-align: middle;\n",
       "    }\n",
       "\n",
       "    .dataframe tbody tr th {\n",
       "        vertical-align: top;\n",
       "    }\n",
       "\n",
       "    .dataframe thead th {\n",
       "        text-align: right;\n",
       "    }\n",
       "</style>\n",
       "<table border=\"1\" class=\"dataframe\">\n",
       "  <thead>\n",
       "    <tr style=\"text-align: right;\">\n",
       "      <th></th>\n",
       "      <th>open</th>\n",
       "      <th>low</th>\n",
       "      <th>high</th>\n",
       "      <th>close</th>\n",
       "      <th>open1</th>\n",
       "      <th>low1</th>\n",
       "      <th>high1</th>\n",
       "      <th>close1</th>\n",
       "      <th>open2</th>\n",
       "      <th>low2</th>\n",
       "      <th>high2</th>\n",
       "      <th>close2</th>\n",
       "    </tr>\n",
       "  </thead>\n",
       "  <tbody>\n",
       "    <tr>\n",
       "      <th>2022-01-01 00:00:00</th>\n",
       "      <td>19.696114</td>\n",
       "      <td>86.082380</td>\n",
       "      <td>8.865258</td>\n",
       "      <td>19.799211</td>\n",
       "      <td>76.777130</td>\n",
       "      <td>47.283882</td>\n",
       "      <td>91.916176</td>\n",
       "      <td>51.025611</td>\n",
       "      <td>83.920834</td>\n",
       "      <td>19.049703</td>\n",
       "      <td>4.170005</td>\n",
       "      <td>28.528827</td>\n",
       "    </tr>\n",
       "    <tr>\n",
       "      <th>2022-01-01 00:00:01</th>\n",
       "      <td>5.971147</td>\n",
       "      <td>79.595970</td>\n",
       "      <td>97.008154</td>\n",
       "      <td>48.362804</td>\n",
       "      <td>32.032142</td>\n",
       "      <td>74.127104</td>\n",
       "      <td>4.470319</td>\n",
       "      <td>61.176090</td>\n",
       "      <td>24.133712</td>\n",
       "      <td>4.729850</td>\n",
       "      <td>7.541760</td>\n",
       "      <td>29.951372</td>\n",
       "    </tr>\n",
       "    <tr>\n",
       "      <th>2022-01-01 00:00:02</th>\n",
       "      <td>88.369816</td>\n",
       "      <td>40.437149</td>\n",
       "      <td>41.006761</td>\n",
       "      <td>62.908517</td>\n",
       "      <td>41.378474</td>\n",
       "      <td>16.121503</td>\n",
       "      <td>74.091630</td>\n",
       "      <td>58.369943</td>\n",
       "      <td>27.451944</td>\n",
       "      <td>8.755761</td>\n",
       "      <td>90.366165</td>\n",
       "      <td>0.085806</td>\n",
       "    </tr>\n",
       "    <tr>\n",
       "      <th>2022-01-01 00:00:03</th>\n",
       "      <td>69.463462</td>\n",
       "      <td>0.377706</td>\n",
       "      <td>36.195382</td>\n",
       "      <td>72.701965</td>\n",
       "      <td>28.881375</td>\n",
       "      <td>47.889544</td>\n",
       "      <td>84.601100</td>\n",
       "      <td>49.666996</td>\n",
       "      <td>31.698260</td>\n",
       "      <td>32.343895</td>\n",
       "      <td>21.746633</td>\n",
       "      <td>0.573535</td>\n",
       "    </tr>\n",
       "    <tr>\n",
       "      <th>2022-01-01 00:00:04</th>\n",
       "      <td>8.397874</td>\n",
       "      <td>44.012436</td>\n",
       "      <td>86.645129</td>\n",
       "      <td>52.953346</td>\n",
       "      <td>39.779213</td>\n",
       "      <td>61.418572</td>\n",
       "      <td>67.333592</td>\n",
       "      <td>25.713741</td>\n",
       "      <td>97.476810</td>\n",
       "      <td>43.852553</td>\n",
       "      <td>78.358213</td>\n",
       "      <td>41.408313</td>\n",
       "    </tr>\n",
       "  </tbody>\n",
       "</table>\n",
       "</div>"
      ],
      "text/plain": [
       "                          open        low       high      close      open1  \\\n",
       "2022-01-01 00:00:00  19.696114  86.082380   8.865258  19.799211  76.777130   \n",
       "2022-01-01 00:00:01   5.971147  79.595970  97.008154  48.362804  32.032142   \n",
       "2022-01-01 00:00:02  88.369816  40.437149  41.006761  62.908517  41.378474   \n",
       "2022-01-01 00:00:03  69.463462   0.377706  36.195382  72.701965  28.881375   \n",
       "2022-01-01 00:00:04   8.397874  44.012436  86.645129  52.953346  39.779213   \n",
       "\n",
       "                          low1      high1     close1      open2       low2  \\\n",
       "2022-01-01 00:00:00  47.283882  91.916176  51.025611  83.920834  19.049703   \n",
       "2022-01-01 00:00:01  74.127104   4.470319  61.176090  24.133712   4.729850   \n",
       "2022-01-01 00:00:02  16.121503  74.091630  58.369943  27.451944   8.755761   \n",
       "2022-01-01 00:00:03  47.889544  84.601100  49.666996  31.698260  32.343895   \n",
       "2022-01-01 00:00:04  61.418572  67.333592  25.713741  97.476810  43.852553   \n",
       "\n",
       "                         high2     close2  \n",
       "2022-01-01 00:00:00   4.170005  28.528827  \n",
       "2022-01-01 00:00:01   7.541760  29.951372  \n",
       "2022-01-01 00:00:02  90.366165   0.085806  \n",
       "2022-01-01 00:00:03  21.746633   0.573535  \n",
       "2022-01-01 00:00:04  78.358213  41.408313  "
      ]
     },
     "execution_count": 54,
     "metadata": {},
     "output_type": "execute_result"
    }
   ],
   "source": [
    "df.head()"
   ]
  },
  {
   "cell_type": "code",
   "execution_count": null,
   "id": "9dd86631",
   "metadata": {},
   "outputs": [],
   "source": []
  }
 ],
 "metadata": {
  "kernelspec": {
   "display_name": "Python 3 (ipykernel)",
   "language": "python",
   "name": "python3"
  },
  "language_info": {
   "codemirror_mode": {
    "name": "ipython",
    "version": 3
   },
   "file_extension": ".py",
   "mimetype": "text/x-python",
   "name": "python",
   "nbconvert_exporter": "python",
   "pygments_lexer": "ipython3",
   "version": "3.7.11"
  }
 },
 "nbformat": 4,
 "nbformat_minor": 5
}
